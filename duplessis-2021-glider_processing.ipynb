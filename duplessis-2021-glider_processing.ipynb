{
 "cells": [
  {
   "cell_type": "markdown",
   "metadata": {},
   "source": [
    "### L0 and L1 processing of the glider data\n",
    "\n",
    "Removing spikes and outliers"
   ]
  },
  {
   "cell_type": "code",
   "execution_count": 5,
   "metadata": {
    "ExecuteTime": {
     "end_time": "2020-09-25T08:26:44.172995Z",
     "start_time": "2020-09-25T08:26:42.995460Z"
    }
   },
   "outputs": [
    {
     "name": "stdout",
     "output_type": "stream",
     "text": [
      "Populating the interactive namespace from numpy and matplotlib\n"
     ]
    }
   ],
   "source": [
    "%pylab inline\n",
    "import glidertools as gt\n",
    "\n",
    "import sys\n",
    "sys.path.append('processing_code/')\n",
    "\n",
    "import process_seaglider_data_L1 as ps\n",
    "import process_slocum_data_L1 as psl\n",
    "\n",
    "import my_functions as my"
   ]
  },
  {
   "cell_type": "markdown",
   "metadata": {},
   "source": [
    "First load all the raw glider data files"
   ]
  },
  {
   "cell_type": "code",
   "execution_count": 1,
   "metadata": {},
   "outputs": [
    {
     "name": "stdout",
     "output_type": "stream",
     "text": [
      "\n",
      "DIMENSION: ctd_data_point\n",
      "{latitude, salinity_qc, ctd_pressure, longitude, salinity_raw, ctd_depth, temperature_qc, ctd_time, temperature_raw}\n"
     ]
    },
    {
     "name": "stderr",
     "output_type": "stream",
     "text": [
      "100%|██████████| 485/485 [00:15<00:00, 31.35it/s]\n"
     ]
    },
    {
     "name": "stdout",
     "output_type": "stream",
     "text": [
      "../data/gliders/SG542_SAZ_2019/p5420082.nc was skipped\n",
      "\n",
      "\n",
      "Cannot merge data - not enough time indexed DataFrames\n",
      "Returning unmerged dataframes\n",
      "\n",
      "DIMENSION: ctd_data_point\n",
      "{latitude, salinity_qc, ctd_pressure, longitude, salinity_raw, ctd_depth, temperature_qc, ctd_time, temperature_raw}\n"
     ]
    },
    {
     "name": "stderr",
     "output_type": "stream",
     "text": [
      "100%|██████████| 497/497 [00:14<00:00, 33.65it/s]\n"
     ]
    },
    {
     "name": "stdout",
     "output_type": "stream",
     "text": [
      "../data/gliders/SG643/p6430039.nc was skipped\n",
      "\n",
      "\n",
      "Cannot merge data - not enough time indexed DataFrames\n",
      "Returning unmerged dataframes\n"
     ]
    }
   ],
   "source": [
    "%run -i 'processing_code/read_saz_glider_data.py'\n",
    "%run -i 'processing_code/read_pfz_glider_data.py'\n",
    "%run -i 'processing_code/read_miz_glider_data.py'"
   ]
  },
  {
   "cell_type": "markdown",
   "metadata": {},
   "source": [
    "#### Subantarctic Zone\n",
    "\n",
    "Next we do the Level 1 processing for the SAZ glider"
   ]
  },
  {
   "cell_type": "code",
   "execution_count": null,
   "metadata": {},
   "outputs": [],
   "source": [
    "dat_saz_L1 = ps.process_seaglider_data_L1(dat_saz)"
   ]
  },
  {
   "cell_type": "markdown",
   "metadata": {},
   "source": [
    "Calculate mixed layer depth and density"
   ]
  },
  {
   "cell_type": "code",
   "execution_count": 7,
   "metadata": {},
   "outputs": [
    {
     "name": "stdout",
     "output_type": "stream",
     "text": [
      "MLD not calculated: profile 958. Setting to NaN\n",
      "MLD not calculated: profile 959. Setting to NaN\n",
      "MLD not calculated: profile 960. Setting to NaN\n",
      "MLD not calculated: profile 961. Setting to NaN\n",
      "MLD not calculated: profile 962. Setting to NaN\n",
      "MLD not calculated: profile 963. Setting to NaN\n"
     ]
    }
   ],
   "source": [
    "dens = my.dens(dat_saz_L1.salt, dat_saz_L1.temp, dat_saz_L1.depth, dat_saz_L1.lat, dat_saz_L1.lon, dat_saz_L1.time)\n",
    "\n",
    "mld_01 = my.calc_mld(dens.T, dat_saz_L1.depth, den_lim=0.01)\n",
    "mld_03 = my.calc_mld(dens.T, dat_saz_L1.depth, den_lim=0.03)\n",
    "mld_10 = my.calc_mld(dens.T, dat_saz_L1.depth, den_lim=0.10)"
   ]
  },
  {
   "cell_type": "markdown",
   "metadata": {},
   "source": [
    "Calculate secondary variables - using the `GliderTools` Python package, I have calculated density and MLD from the Level 1 salinity and temperature data"
   ]
  },
  {
   "cell_type": "markdown",
   "metadata": {},
   "source": [
    "Assign secondary variables to a new `xarray dataset`  "
   ]
  },
  {
   "cell_type": "code",
   "execution_count": 8,
   "metadata": {},
   "outputs": [],
   "source": [
    "dat_saz_L2 = dat_saz_L1.copy()\n",
    "\n",
    "dat_saz_L2=dat_saz_L2.assign(density=((\"depth\", \"time\"), dens))\n",
    "dat_saz_L2=dat_saz_L2.assign(mld_01=(\"time\", mld_01))\n",
    "dat_saz_L2=dat_saz_L2.assign(mld_03=(\"time\", mld_03))\n",
    "dat_saz_L2=dat_saz_L2.assign(mld_10=(\"time\", mld_10))"
   ]
  },
  {
   "cell_type": "markdown",
   "metadata": {},
   "source": [
    "Assigning the metadata for the SAZ Seaglider"
   ]
  },
  {
   "cell_type": "code",
   "execution_count": 9,
   "metadata": {
    "ExecuteTime": {
     "end_time": "2020-09-25T08:33:49.643065Z",
     "start_time": "2020-09-25T08:33:49.629772Z"
    }
   },
   "outputs": [],
   "source": [
    "from datetime import date\n",
    "\n",
    "dat_saz_L2.attrs['instrument']              = 'Seaglider'\n",
    "dat_saz_L2.attrs['owner']                   = 'Southern Ocean Carbon and Climate Observatory'\n",
    "dat_saz_L2.attrs['contact']                 = 'sarahanne.n@gmail.com'\n",
    "dat_saz_L2.attrs['processing_date']         = str(date.today())\n",
    "dat_saz_L2.attrs['processing_level']        = '2'\n",
    "dat_saz_L2.attrs['time_coverate_start']     = str(dat_saz_L2.time[0].values)\n",
    "dat_saz_L2.attrs['time_coverate_end']       = str(dat_saz_L2.time[-1].values)\n",
    "dat_saz_L2.attrs['geospatial_vertical_min'] = '0'\n",
    "dat_saz_L2.attrs['geospatial_vertical_max'] = '1000'\n",
    "dat_saz_L2.attrs['geospatial_lat_min']      = str(dat_saz_L2.lat.min().values)\n",
    "dat_saz_L2.attrs['geospatial_lat_max']      = str(dat_saz_L2.lat.max().values)\n",
    "dat_saz_L2.attrs['geospatial_lon_min']      = str(dat_saz_L2.lon.min().values)\n",
    "dat_saz_L2.attrs['geospatial_lon_max']      = str(dat_saz_L2.lon.max().values)"
   ]
  },
  {
   "cell_type": "markdown",
   "metadata": {
    "ExecuteTime": {
     "end_time": "2020-08-25T14:24:01.908421Z",
     "start_time": "2020-08-25T14:24:01.868051Z"
    }
   },
   "source": [
    "#### Polar Frontal Zone Slocum"
   ]
  },
  {
   "cell_type": "code",
   "execution_count": 10,
   "metadata": {},
   "outputs": [],
   "source": [
    "dat_pfz['latitude'] = (('time'), dat_pfz.latitude)\n",
    "dat_pfz['longitude'] = (('time'), dat_pfz.longitude)\n",
    "dat_pfz['density'] = (('time'), dat_pfz.density)\n",
    "\n",
    "dat_pfz = dat_pfz.drop(labels=['dim_0'])\n",
    "\n",
    "dat_pfz['ctd_depth'] = (('time'), np.abs(gsw.z_from_p(dat_pfz.ctd_pressure, dat_pfz.latitude)))"
   ]
  },
  {
   "cell_type": "code",
   "execution_count": 11,
   "metadata": {
    "ExecuteTime": {
     "end_time": "2020-09-25T08:28:36.320121Z",
     "start_time": "2020-09-25T08:28:04.041992Z"
    }
   },
   "outputs": [
    {
     "name": "stdout",
     "output_type": "stream",
     "text": [
      "Mean bin size = 5.00\n",
      "Mean depth binned (50 m) vertical sampling frequency = 0.12\n"
     ]
    },
    {
     "name": "stderr",
     "output_type": "stream",
     "text": [
      "/Users/marcel/opt/anaconda3/lib/python3.8/site-packages/pandas/io/formats/format.py:1405: FutureWarning: Index.ravel returning ndarray is deprecated; in a future version this will return a view on self.\n",
      "  for val, m in zip(values.ravel(), mask.ravel())\n",
      "/Users/marcel/opt/anaconda3/lib/python3.8/site-packages/pandas/io/formats/format.py:1405: FutureWarning: Index.ravel returning ndarray is deprecated; in a future version this will return a view on self.\n",
      "  for val, m in zip(values.ravel(), mask.ravel())\n"
     ]
    },
    {
     "name": "stdout",
     "output_type": "stream",
     "text": [
      "Mean bin size = 5.00\n",
      "Mean depth binned (50 m) vertical sampling frequency = 0.12\n"
     ]
    },
    {
     "name": "stderr",
     "output_type": "stream",
     "text": [
      "/Users/marcel/opt/anaconda3/lib/python3.8/site-packages/pandas/io/formats/format.py:1405: FutureWarning: Index.ravel returning ndarray is deprecated; in a future version this will return a view on self.\n",
      "  for val, m in zip(values.ravel(), mask.ravel())\n",
      "/Users/marcel/opt/anaconda3/lib/python3.8/site-packages/pandas/io/formats/format.py:1405: FutureWarning: Index.ravel returning ndarray is deprecated; in a future version this will return a view on self.\n",
      "  for val, m in zip(values.ravel(), mask.ravel())\n"
     ]
    }
   ],
   "source": [
    "dat_pfz_L1 = psl.process_slocum_data_L1(dat_pfz)"
   ]
  },
  {
   "cell_type": "markdown",
   "metadata": {},
   "source": [
    "Calculate secondary variables - using the `GliderTools` Python package, I have calculated density and MLD from the Level 1 salinity and temperature data"
   ]
  },
  {
   "cell_type": "code",
   "execution_count": 12,
   "metadata": {},
   "outputs": [],
   "source": [
    "dens = my.dens(dat_pfz_L1.salt, dat_pfz_L1.temp, dat_pfz_L1.depth, dat_pfz_L1.lat, dat_pfz_L1.lon, dat_pfz_L1.time)\n",
    "\n",
    "mld_01 = my.calc_mld(dens.T, dat_pfz_L1.depth, den_lim=0.01)\n",
    "mld_03 = my.calc_mld(dens.T, dat_pfz_L1.depth, den_lim=0.03)\n",
    "mld_10 = my.calc_mld(dens.T, dat_pfz_L1.depth, den_lim=0.10)"
   ]
  },
  {
   "cell_type": "markdown",
   "metadata": {},
   "source": [
    "Assign secondary variables to a new `xarray dataset`  "
   ]
  },
  {
   "cell_type": "code",
   "execution_count": 13,
   "metadata": {
    "ExecuteTime": {
     "end_time": "2020-09-25T08:29:01.436189Z",
     "start_time": "2020-09-25T08:29:01.428891Z"
    }
   },
   "outputs": [],
   "source": [
    "dat_pfz_L2 = dat_pfz_L1.copy()\n",
    "\n",
    "dat_pfz_L2 = dat_pfz_L2.assign(density=((\"depth\", \"time\"), dens))\n",
    "dat_pfz_L2 = dat_pfz_L2.assign(mld_01=(\"time\", mld_01))\n",
    "dat_pfz_L2 = dat_pfz_L2.assign(mld_03=(\"time\", mld_03))\n",
    "dat_pfz_L2 = dat_pfz_L2.assign(mld_10=(\"time\", mld_10))"
   ]
  },
  {
   "cell_type": "code",
   "execution_count": 14,
   "metadata": {
    "ExecuteTime": {
     "end_time": "2020-09-25T08:33:54.363545Z",
     "start_time": "2020-09-25T08:33:54.346507Z"
    }
   },
   "outputs": [],
   "source": [
    "from datetime import date\n",
    "\n",
    "dat_pfz_L2.attrs['instrument']              = 'Webb Teledyne Slocum'\n",
    "dat_pfz_L2.attrs['owner']                   = 'Southern Ocean Carbon and Climate Observatory'\n",
    "dat_pfz_L2.attrs['contact']                 = 'sarahanne.n@gmail.com'\n",
    "dat_pfz_L2.attrs['processing_date']         = str(date.today())\n",
    "dat_pfz_L2.attrs['processing_level']        = '2'\n",
    "dat_pfz_L2.attrs['time_coverate_start']     = str(dat_pfz_L2.time[0].values)\n",
    "dat_pfz_L2.attrs['time_coverate_end']       = str(dat_pfz_L2.time[-1].values)\n",
    "dat_pfz_L2.attrs['geospatial_vertical_min'] = '0'\n",
    "dat_pfz_L2.attrs['geospatial_vertical_max'] = '1000'\n",
    "dat_pfz_L2.attrs['geospatial_lat_min']      = str(dat_pfz_L2.lat.min().values)\n",
    "dat_pfz_L2.attrs['geospatial_lat_max']      = str(dat_pfz_L2.lat.max().values)\n",
    "dat_pfz_L2.attrs['geospatial_lon_min']      = str(dat_pfz_L2.lon.min().values)\n",
    "dat_pfz_L2.attrs['geospatial_lon_max']      = str(dat_pfz_L2.lon.max().values)"
   ]
  },
  {
   "cell_type": "markdown",
   "metadata": {},
   "source": [
    "### Marginal Ice Zone Seaglider"
   ]
  },
  {
   "cell_type": "markdown",
   "metadata": {},
   "source": [
    "Run the Level 1 processing script"
   ]
  },
  {
   "cell_type": "code",
   "execution_count": 15,
   "metadata": {
    "ExecuteTime": {
     "end_time": "2020-09-25T08:29:41.900717Z",
     "start_time": "2020-09-25T08:29:17.462976Z"
    }
   },
   "outputs": [
    {
     "name": "stdout",
     "output_type": "stream",
     "text": [
      "Mean bin size = 5.00\n",
      "Mean depth binned (50 m) vertical sampling frequency = 0.56\n"
     ]
    },
    {
     "name": "stderr",
     "output_type": "stream",
     "text": [
      "/Users/marcel/opt/anaconda3/lib/python3.8/site-packages/pandas/io/formats/format.py:1405: FutureWarning: Index.ravel returning ndarray is deprecated; in a future version this will return a view on self.\n",
      "  for val, m in zip(values.ravel(), mask.ravel())\n",
      "/Users/marcel/opt/anaconda3/lib/python3.8/site-packages/pandas/io/formats/format.py:1405: FutureWarning: Index.ravel returning ndarray is deprecated; in a future version this will return a view on self.\n",
      "  for val, m in zip(values.ravel(), mask.ravel())\n"
     ]
    },
    {
     "name": "stdout",
     "output_type": "stream",
     "text": [
      "Mean bin size = 5.00\n",
      "Mean depth binned (50 m) vertical sampling frequency = 0.56\n"
     ]
    },
    {
     "name": "stderr",
     "output_type": "stream",
     "text": [
      "/Users/marcel/opt/anaconda3/lib/python3.8/site-packages/pandas/io/formats/format.py:1405: FutureWarning: Index.ravel returning ndarray is deprecated; in a future version this will return a view on self.\n",
      "  for val, m in zip(values.ravel(), mask.ravel())\n",
      "/Users/marcel/opt/anaconda3/lib/python3.8/site-packages/pandas/io/formats/format.py:1405: FutureWarning: Index.ravel returning ndarray is deprecated; in a future version this will return a view on self.\n",
      "  for val, m in zip(values.ravel(), mask.ravel())\n"
     ]
    }
   ],
   "source": [
    "dat_miz_L1 = ps.process_seaglider_data_L1(dat_miz)"
   ]
  },
  {
   "cell_type": "markdown",
   "metadata": {},
   "source": [
    "Calculate secondary variables - using the `GliderTools` Python package, I have calculated density and MLD from the Level 1 salinity and temperature data"
   ]
  },
  {
   "cell_type": "code",
   "execution_count": 16,
   "metadata": {},
   "outputs": [
    {
     "name": "stdout",
     "output_type": "stream",
     "text": [
      "MLD not calculated: profile 347. Setting to NaN\n",
      "MLD not calculated: profile 484. Setting to NaN\n",
      "MLD not calculated: profile 347. Setting to NaN\n",
      "MLD not calculated: profile 484. Setting to NaN\n",
      "MLD not calculated: profile 347. Setting to NaN\n",
      "MLD not calculated: profile 484. Setting to NaN\n"
     ]
    }
   ],
   "source": [
    "dens = my.dens(dat_miz_L1.salt, dat_miz_L1.temp, dat_miz_L1.depth, dat_miz_L1.lat, dat_miz_L1.lon, dat_miz_L1.time)\n",
    "\n",
    "mld_01 = my.calc_mld(dens.T, dat_miz_L1.depth, den_lim=0.01)\n",
    "mld_03 = my.calc_mld(dens.T, dat_miz_L1.depth, den_lim=0.03)\n",
    "mld_10 = my.calc_mld(dens.T, dat_miz_L1.depth, den_lim=0.10)"
   ]
  },
  {
   "cell_type": "markdown",
   "metadata": {},
   "source": [
    "Assign secondary variables to a new `xarray dataset`  "
   ]
  },
  {
   "cell_type": "code",
   "execution_count": 17,
   "metadata": {
    "ExecuteTime": {
     "end_time": "2020-09-25T08:30:15.143202Z",
     "start_time": "2020-09-25T08:30:15.137300Z"
    }
   },
   "outputs": [],
   "source": [
    "dat_miz_L2 = dat_miz_L1.copy()\n",
    "\n",
    "dat_miz_L2 = dat_miz_L2.assign(density=((\"depth\", \"time\"), dens))\n",
    "dat_miz_L2 = dat_miz_L2.assign(mld_01=(\"time\", mld_01))\n",
    "dat_miz_L2 = dat_miz_L2.assign(mld_03=(\"time\", mld_03))\n",
    "dat_miz_L2 = dat_miz_L2.assign(mld_10=(\"time\", mld_10))"
   ]
  },
  {
   "cell_type": "code",
   "execution_count": 18,
   "metadata": {
    "ExecuteTime": {
     "end_time": "2020-09-25T08:33:59.459597Z",
     "start_time": "2020-09-25T08:33:59.443871Z"
    }
   },
   "outputs": [],
   "source": [
    "from datetime import date\n",
    "\n",
    "dat_miz_L2.attrs['instrument']              = 'Hydroid Seaglider'\n",
    "dat_miz_L2.attrs['owner']                   = 'University of Gothenburg'\n",
    "dat_miz_L2.attrs['contact']                 = 'sebastiaan.swart@marine.gu.se'\n",
    "dat_miz_L2.attrs['processing_date']         = str(date.today())\n",
    "dat_miz_L2.attrs['processing_level']        = '2'\n",
    "dat_miz_L2.attrs['time_coverate_start']     = str(dat_miz_L2.time[0].values)\n",
    "dat_miz_L2.attrs['time_coverate_end']       = str(dat_miz_L2.time[-1].values)\n",
    "dat_miz_L2.attrs['geospatial_vertical_min'] = '0'\n",
    "dat_miz_L2.attrs['geospatial_vertical_max'] = '1000'\n",
    "dat_miz_L2.attrs['geospatial_lat_min']      = str(dat_miz_L2.lat.min().values)\n",
    "dat_miz_L2.attrs['geospatial_lat_max']      = str(dat_miz_L2.lat.max().values)\n",
    "dat_miz_L2.attrs['geospatial_lon_min']      = str(dat_miz_L2.lon.min().values)\n",
    "dat_miz_L2.attrs['geospatial_lon_max']      = str(dat_miz_L2.lon.max().values)"
   ]
  },
  {
   "cell_type": "markdown",
   "metadata": {},
   "source": [
    "Save all data as NetCDF to the data folder"
   ]
  },
  {
   "cell_type": "code",
   "execution_count": 19,
   "metadata": {
    "ExecuteTime": {
     "end_time": "2020-09-25T08:34:09.241257Z",
     "start_time": "2020-09-25T08:34:03.143139Z"
    }
   },
   "outputs": [],
   "source": [
    "dat_saz.to_netcdf   ('../data/sg542_saz_L0.nc')\n",
    "dat_saz_L1.to_netcdf('../data/sg542_saz_L1.nc')\n",
    "dat_saz_L2.to_netcdf('../data/sg542_saz_L2.nc')\n",
    "\n",
    "dat_pfz.to_netcdf   ('../data/slocum_pfz_L0.nc')\n",
    "dat_pfz_L1.to_netcdf('../data/slocum_pfz_L1.nc')\n",
    "dat_pfz_L2.to_netcdf('../data/slocum_pfz_L2.nc')\n",
    "\n",
    "dat_miz.to_netcdf   ('../data/sg643_miz_L0.nc')\n",
    "dat_miz_L1.to_netcdf('../data/sg643_miz_L1.nc')\n",
    "dat_miz_L2.to_netcdf('../data/sg643_miz_L2.nc')"
   ]
  },
  {
   "cell_type": "code",
   "execution_count": null,
   "metadata": {},
   "outputs": [],
   "source": []
  }
 ],
 "metadata": {
  "kernelspec": {
   "display_name": "Python 3",
   "language": "python",
   "name": "python3"
  },
  "language_info": {
   "codemirror_mode": {
    "name": "ipython",
    "version": 3
   },
   "file_extension": ".py",
   "mimetype": "text/x-python",
   "name": "python",
   "nbconvert_exporter": "python",
   "pygments_lexer": "ipython3",
   "version": "3.8.8"
  },
  "toc": {
   "base_numbering": 1,
   "nav_menu": {},
   "number_sections": true,
   "sideBar": true,
   "skip_h1_title": false,
   "title_cell": "Table of Contents",
   "title_sidebar": "Contents",
   "toc_cell": false,
   "toc_position": {},
   "toc_section_display": true,
   "toc_window_display": false
  }
 },
 "nbformat": 4,
 "nbformat_minor": 4
}
