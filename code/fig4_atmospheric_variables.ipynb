{
 "cells": [
  {
   "cell_type": "code",
   "execution_count": 1,
   "metadata": {},
   "outputs": [
    {
     "name": "stdout",
     "output_type": "stream",
     "text": [
      "Populating the interactive namespace from numpy and matplotlib\n"
     ]
    }
   ],
   "source": [
    "import xarray as xr\n",
    "%pylab inline\n",
    "from tqdm import tqdm_notebook\n",
    "import cmocean.cm as cmo\n",
    "\n",
    "plt.rcParams['figure.figsize'] = (18,9)\n",
    "plt.rcParams['font.size'] = 16\n",
    "plt.rcParams['ytick.direction'] = 'in'\n",
    "\n",
    "font = {'family' : 'Arial',\n",
    "        'weight' : 'ultralight',\n",
    "        'size'   : 18}\n",
    "\n",
    "matplotlib.rc('font', **font)\n",
    "\n",
    "rc('ytick.major', size=6)\n",
    "rc('xtick.major', size=6)\n",
    "rc('lines', linewidth=2.5)\n",
    "\n",
    "import matplotlib.dates as mdates\n",
    "years = mdates.YearLocator()   # every year\n",
    "months = mdates.MonthLocator(interval=1)  # every month\n",
    "weeks = mdates.WeekdayLocator(byweekday=MO, interval=2)\n",
    "yearsFmt = mdates.DateFormatter(\"%d/%m\")"
   ]
  },
  {
   "cell_type": "code",
   "execution_count": null,
   "metadata": {},
   "outputs": [],
   "source": []
  }
 ],
 "metadata": {
  "kernelspec": {
   "display_name": "Python 3",
   "language": "python",
   "name": "python3"
  },
  "language_info": {
   "codemirror_mode": {
    "name": "ipython",
    "version": 3
   },
   "file_extension": ".py",
   "mimetype": "text/x-python",
   "name": "python",
   "nbconvert_exporter": "python",
   "pygments_lexer": "ipython3",
   "version": "3.7.3"
  }
 },
 "nbformat": 4,
 "nbformat_minor": 4
}
