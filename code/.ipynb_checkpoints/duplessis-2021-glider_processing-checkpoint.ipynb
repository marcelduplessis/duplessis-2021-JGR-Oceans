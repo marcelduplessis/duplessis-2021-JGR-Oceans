{
 "cells": [
  {
   "cell_type": "markdown",
   "metadata": {},
   "source": [
    "### L0 and L1 processing of the glider data\n",
    "\n",
    "Removing spikes and outliers"
   ]
  },
  {
   "cell_type": "code",
   "execution_count": 1,
   "metadata": {},
   "outputs": [],
   "source": [
    "import matplotlib.pyplot as plt\n",
    "\n",
    "plt.rcParams['figure.figsize'] = (18,9)\n",
    "plt.rcParams['ytick.direction'] = 'in'\n",
    "plt.rcParams['xtick.direction'] = 'in'\n",
    "\n",
    "font = {'family' : 'Arial',\n",
    "        'weight' : 'ultralight',\n",
    "        'size'   : 13}\n",
    "\n",
    "plt.rc('font', **font)\n",
    "\n",
    "plt.rc('ytick.major', size=6)\n",
    "plt.rc('xtick.major', size=6)\n",
    "plt.rc('ytick.minor', size=4)\n",
    "plt.rc('xtick.minor', size=4)\n",
    "plt.rc('lines', linewidth=2)"
   ]
  },
  {
   "cell_type": "code",
   "execution_count": 2,
   "metadata": {
    "ExecuteTime": {
     "end_time": "2020-09-25T08:26:44.172995Z",
     "start_time": "2020-09-25T08:26:42.995460Z"
    }
   },
   "outputs": [
    {
     "name": "stdout",
     "output_type": "stream",
     "text": [
      "Populating the interactive namespace from numpy and matplotlib\n"
     ]
    }
   ],
   "source": [
    "%pylab inline\n",
    "import glidertools as gt\n",
    "import process_seaglider_data_L1 as ps\n",
    "import process_slocum_data_L1 as psl\n",
    "import my_functions as my"
   ]
  },
  {
   "cell_type": "markdown",
   "metadata": {},
   "source": [
    "### Subantarctic Zone Seaglider"
   ]
  },
  {
   "cell_type": "code",
   "execution_count": 3,
   "metadata": {
    "ExecuteTime": {
     "end_time": "2020-09-25T08:27:00.458766Z",
     "start_time": "2020-09-25T08:26:44.187701Z"
    }
   },
   "outputs": [
    {
     "name": "stdout",
     "output_type": "stream",
     "text": [
      "\n",
      "DIMENSION: ctd_data_point\n",
      "{temperature_raw, latitude, salinity_raw, salinity_qc, temperature_qc, ctd_time, ctd_depth, longitude, ctd_pressure}\n"
     ]
    },
    {
     "name": "stderr",
     "output_type": "stream",
     "text": [
      "100%|██████████| 485/485 [00:14<00:00, 32.92it/s]\n"
     ]
    },
    {
     "name": "stdout",
     "output_type": "stream",
     "text": [
      "/Users/marcel/Google Drive/Projects/buoyancy_flux_paper/data/gliders/SG542_SAZ_2019/p5420082.nc was skipped\n",
      "\n",
      "\n",
      "Cannot merge data - not enough time indexed DataFrames\n",
      "Returning unmerged dataframes\n",
      "Mean bin size = 5.00\n",
      "Mean depth binned (50 m) vertical sampling frequency = 0.62\n",
      "Mean bin size = 5.00\n",
      "Mean depth binned (50 m) vertical sampling frequency = 0.62\n"
     ]
    }
   ],
   "source": [
    "%run read_saz_glider_data.py\n",
    "\n",
    "dat_saz_L1 = ps.process_seaglider_data_L1(dat_saz)"
   ]
  },
  {
   "cell_type": "code",
   "execution_count": 4,
   "metadata": {},
   "outputs": [
    {
     "name": "stdout",
     "output_type": "stream",
     "text": [
      "MLD not calculated: profile 958. Setting to NaN\n",
      "MLD not calculated: profile 959. Setting to NaN\n",
      "MLD not calculated: profile 960. Setting to NaN\n",
      "MLD not calculated: profile 961. Setting to NaN\n",
      "MLD not calculated: profile 962. Setting to NaN\n",
      "MLD not calculated: profile 963. Setting to NaN\n"
     ]
    }
   ],
   "source": [
    "dens = my.dens(dat_saz_L1.salt, dat_saz_L1.temp, dat_saz_L1.depth, dat_saz_L1.lat, dat_saz_L1.lon, dat_saz_L1.time)\n",
    "\n",
    "mld_01 = my.calc_mld(dens.T, dat_saz_L1.depth, den_lim=0.01)\n",
    "mld_03 = my.calc_mld(dens.T, dat_saz_L1.depth, den_lim=0.03)\n",
    "mld_10 = my.calc_mld(dens.T, dat_saz_L1.depth, den_lim=0.10)"
   ]
  },
  {
   "cell_type": "markdown",
   "metadata": {},
   "source": [
    "Calculate secondary variables - using the `GliderTools` Python package, I have calculated density and MLD from the Level 1 salinity and temperature data"
   ]
  },
  {
   "cell_type": "markdown",
   "metadata": {},
   "source": [
    "Assign secondary variables to a new `xarray dataset`  "
   ]
  },
  {
   "cell_type": "code",
   "execution_count": 5,
   "metadata": {},
   "outputs": [],
   "source": [
    "dat_saz_L2 = dat_saz_L1.copy()\n",
    "\n",
    "dat_saz_L2=dat_saz_L2.assign(density=((\"depth\", \"time\"), dens))\n",
    "dat_saz_L2=dat_saz_L2.assign(mld_01=(\"time\", mld_01))\n",
    "dat_saz_L2=dat_saz_L2.assign(mld_03=(\"time\", mld_03))\n",
    "dat_saz_L2=dat_saz_L2.assign(mld_10=(\"time\", mld_10))"
   ]
  },
  {
   "cell_type": "markdown",
   "metadata": {},
   "source": [
    "Assigning the metadata for the SAZ Seaglider"
   ]
  },
  {
   "cell_type": "code",
   "execution_count": 6,
   "metadata": {
    "ExecuteTime": {
     "end_time": "2020-09-25T08:33:49.643065Z",
     "start_time": "2020-09-25T08:33:49.629772Z"
    }
   },
   "outputs": [],
   "source": [
    "from datetime import date\n",
    "\n",
    "dat_saz_L2.attrs['instrument']              = 'Seaglider'\n",
    "dat_saz_L2.attrs['owner']                   = 'Southern Ocean Carbon and Climate Observatory'\n",
    "dat_saz_L2.attrs['contact']                 = 'sarahanne.n@gmail.com'\n",
    "dat_saz_L2.attrs['processing_date']         = str(date.today())\n",
    "dat_saz_L2.attrs['processing_level']        = '2'\n",
    "dat_saz_L2.attrs['time_coverate_start']     = str(dat_saz_L2.time[0].values)\n",
    "dat_saz_L2.attrs['time_coverate_end']       = str(dat_saz_L2.time[-1].values)\n",
    "dat_saz_L2.attrs['geospatial_vertical_min'] = '0'\n",
    "dat_saz_L2.attrs['geospatial_vertical_max'] = '1000'\n",
    "dat_saz_L2.attrs['geospatial_lat_min']      = str(dat_saz_L2.lat.min().values)\n",
    "dat_saz_L2.attrs['geospatial_lat_max']      = str(dat_saz_L2.lat.max().values)\n",
    "dat_saz_L2.attrs['geospatial_lon_min']      = str(dat_saz_L2.lon.min().values)\n",
    "dat_saz_L2.attrs['geospatial_lon_max']      = str(dat_saz_L2.lon.max().values)"
   ]
  },
  {
   "cell_type": "markdown",
   "metadata": {
    "ExecuteTime": {
     "end_time": "2020-08-25T14:24:01.908421Z",
     "start_time": "2020-08-25T14:24:01.868051Z"
    }
   },
   "source": [
    "### Antarctic Polar Zone Slocum"
   ]
  },
  {
   "cell_type": "code",
   "execution_count": 7,
   "metadata": {
    "ExecuteTime": {
     "end_time": "2020-09-25T08:27:59.475383Z",
     "start_time": "2020-09-25T08:27:57.308896Z"
    }
   },
   "outputs": [],
   "source": [
    "%run read_apz_glider_data.py"
   ]
  },
  {
   "cell_type": "code",
   "execution_count": 8,
   "metadata": {},
   "outputs": [],
   "source": [
    "dat_apz['latitude'] = (('time'), dat_apz.latitude)\n",
    "dat_apz['longitude'] = (('time'), dat_apz.longitude)\n",
    "dat_apz['density'] = (('time'), dat_apz.density)\n",
    "\n",
    "dat_apz = dat_apz.drop(labels=['dim_0'])\n",
    "\n",
    "dat_apz['ctd_depth'] = (('time'), np.abs(gsw.z_from_p(dat_apz.ctd_pressure, dat_apz.latitude)))\n",
    "\n",
    "# i = dat_apz.dives>84\n",
    "# dat_apz = dat_apz.where(i, drop=True)"
   ]
  },
  {
   "cell_type": "code",
   "execution_count": 9,
   "metadata": {
    "ExecuteTime": {
     "end_time": "2020-09-25T08:28:36.320121Z",
     "start_time": "2020-09-25T08:28:04.041992Z"
    }
   },
   "outputs": [
    {
     "name": "stdout",
     "output_type": "stream",
     "text": [
      "Mean bin size = 5.00\n",
      "Mean depth binned (50 m) vertical sampling frequency = 0.12\n",
      "Mean bin size = 5.00\n",
      "Mean depth binned (50 m) vertical sampling frequency = 0.12\n"
     ]
    }
   ],
   "source": [
    "dat_apz_L1 = psl.process_slocum_data_L1(dat_apz)"
   ]
  },
  {
   "cell_type": "markdown",
   "metadata": {},
   "source": [
    "Calculate secondary variables - using the `GliderTools` Python package, I have calculated density and MLD from the Level 1 salinity and temperature data"
   ]
  },
  {
   "cell_type": "code",
   "execution_count": 10,
   "metadata": {},
   "outputs": [],
   "source": [
    "dens = my.dens(dat_apz_L1.salt, dat_apz_L1.temp, dat_apz_L1.depth, dat_apz_L1.lat, dat_apz_L1.lon, dat_apz_L1.time)\n",
    "\n",
    "mld_01 = my.calc_mld(dens.T, dat_apz_L1.depth, den_lim=0.01)\n",
    "mld_03 = my.calc_mld(dens.T, dat_apz_L1.depth, den_lim=0.03)\n",
    "mld_10 = my.calc_mld(dens.T, dat_apz_L1.depth, den_lim=0.10)"
   ]
  },
  {
   "cell_type": "markdown",
   "metadata": {},
   "source": [
    "Assign secondary variables to a new `xarray dataset`  "
   ]
  },
  {
   "cell_type": "code",
   "execution_count": 11,
   "metadata": {
    "ExecuteTime": {
     "end_time": "2020-09-25T08:29:01.436189Z",
     "start_time": "2020-09-25T08:29:01.428891Z"
    }
   },
   "outputs": [],
   "source": [
    "dat_apz_L2 = dat_apz_L1.copy()\n",
    "\n",
    "dat_apz_L2 = dat_apz_L2.assign(density=((\"depth\", \"time\"), dens))\n",
    "dat_apz_L2 = dat_apz_L2.assign(mld_01=(\"time\", mld_01))\n",
    "dat_apz_L2 = dat_apz_L2.assign(mld_03=(\"time\", mld_03))\n",
    "dat_apz_L2 = dat_apz_L2.assign(mld_10=(\"time\", mld_10))"
   ]
  },
  {
   "cell_type": "code",
   "execution_count": 12,
   "metadata": {
    "ExecuteTime": {
     "end_time": "2020-09-25T08:33:54.363545Z",
     "start_time": "2020-09-25T08:33:54.346507Z"
    }
   },
   "outputs": [],
   "source": [
    "from datetime import date\n",
    "\n",
    "dat_apz_L2.attrs['instrument']              = 'Webb Teledyne Slocum'\n",
    "dat_apz_L2.attrs['owner']                   = 'Southern Ocean Carbon and Climate Observatory'\n",
    "dat_apz_L2.attrs['contact']                 = 'sarahanne.n@gmail.com'\n",
    "dat_apz_L2.attrs['processing_date']         = str(date.today())\n",
    "dat_apz_L2.attrs['processing_level']        = '2'\n",
    "dat_apz_L2.attrs['time_coverate_start']     = str(dat_apz_L2.time[0].values)\n",
    "dat_apz_L2.attrs['time_coverate_end']       = str(dat_apz_L2.time[-1].values)\n",
    "dat_apz_L2.attrs['geospatial_vertical_min'] = '0'\n",
    "dat_apz_L2.attrs['geospatial_vertical_max'] = '1000'\n",
    "dat_apz_L2.attrs['geospatial_lat_min']      = str(dat_apz_L2.lat.min().values)\n",
    "dat_apz_L2.attrs['geospatial_lat_max']      = str(dat_apz_L2.lat.max().values)\n",
    "dat_apz_L2.attrs['geospatial_lon_min']      = str(dat_apz_L2.lon.min().values)\n",
    "dat_apz_L2.attrs['geospatial_lon_max']      = str(dat_apz_L2.lon.max().values)"
   ]
  },
  {
   "cell_type": "markdown",
   "metadata": {},
   "source": [
    "### Marginal Ice Zone Seaglider"
   ]
  },
  {
   "cell_type": "code",
   "execution_count": 13,
   "metadata": {
    "ExecuteTime": {
     "end_time": "2020-09-25T08:29:16.369679Z",
     "start_time": "2020-09-25T08:29:01.457695Z"
    }
   },
   "outputs": [
    {
     "name": "stdout",
     "output_type": "stream",
     "text": [
      "\n",
      "DIMENSION: ctd_data_point\n",
      "{temperature_raw, latitude, salinity_raw, salinity_qc, temperature_qc, ctd_time, ctd_depth, longitude, ctd_pressure}\n"
     ]
    },
    {
     "name": "stderr",
     "output_type": "stream",
     "text": [
      "100%|██████████| 497/497 [00:14<00:00, 35.23it/s]\n"
     ]
    },
    {
     "name": "stdout",
     "output_type": "stream",
     "text": [
      "/Users/marcel/Google Drive/Projects/buoyancy_flux_paper/data/gliders/SG643/p6430039.nc was skipped\n",
      "\n",
      "\n",
      "Cannot merge data - not enough time indexed DataFrames\n",
      "Returning unmerged dataframes\n"
     ]
    }
   ],
   "source": [
    "%run read_miz_glider_data.py"
   ]
  },
  {
   "cell_type": "markdown",
   "metadata": {},
   "source": [
    "Run the Level 1 processing script"
   ]
  },
  {
   "cell_type": "code",
   "execution_count": 14,
   "metadata": {
    "ExecuteTime": {
     "end_time": "2020-09-25T08:29:41.900717Z",
     "start_time": "2020-09-25T08:29:17.462976Z"
    }
   },
   "outputs": [
    {
     "name": "stdout",
     "output_type": "stream",
     "text": [
      "Mean bin size = 5.00\n",
      "Mean depth binned (50 m) vertical sampling frequency = 0.56\n",
      "Mean bin size = 5.00\n",
      "Mean depth binned (50 m) vertical sampling frequency = 0.56\n"
     ]
    }
   ],
   "source": [
    "dat_miz_L1 = ps.process_seaglider_data_L1(dat_miz)"
   ]
  },
  {
   "cell_type": "markdown",
   "metadata": {},
   "source": [
    "Calculate secondary variables - using the `GliderTools` Python package, I have calculated density and MLD from the Level 1 salinity and temperature data"
   ]
  },
  {
   "cell_type": "code",
   "execution_count": 15,
   "metadata": {},
   "outputs": [
    {
     "name": "stdout",
     "output_type": "stream",
     "text": [
      "MLD not calculated: profile 347. Setting to NaN\n",
      "MLD not calculated: profile 484. Setting to NaN\n",
      "MLD not calculated: profile 347. Setting to NaN\n",
      "MLD not calculated: profile 484. Setting to NaN\n",
      "MLD not calculated: profile 347. Setting to NaN\n",
      "MLD not calculated: profile 484. Setting to NaN\n"
     ]
    }
   ],
   "source": [
    "dens = my.dens(dat_miz_L1.salt, dat_miz_L1.temp, dat_miz_L1.depth, dat_miz_L1.lat, dat_miz_L1.lon, dat_miz_L1.time)\n",
    "\n",
    "mld_01 = my.calc_mld(dens.T, dat_miz_L1.depth, den_lim=0.01)\n",
    "mld_03 = my.calc_mld(dens.T, dat_miz_L1.depth, den_lim=0.03)\n",
    "mld_10 = my.calc_mld(dens.T, dat_miz_L1.depth, den_lim=0.10)"
   ]
  },
  {
   "cell_type": "markdown",
   "metadata": {},
   "source": [
    "Assign secondary variables to a new `xarray dataset`  "
   ]
  },
  {
   "cell_type": "code",
   "execution_count": 16,
   "metadata": {
    "ExecuteTime": {
     "end_time": "2020-09-25T08:30:15.143202Z",
     "start_time": "2020-09-25T08:30:15.137300Z"
    }
   },
   "outputs": [],
   "source": [
    "dat_miz_L2 = dat_miz_L1.copy()\n",
    "\n",
    "dat_miz_L2 = dat_miz_L2.assign(density=((\"depth\", \"time\"), dens))\n",
    "dat_miz_L2 = dat_miz_L2.assign(mld_01=(\"time\", mld_01))\n",
    "dat_miz_L2 = dat_miz_L2.assign(mld_03=(\"time\", mld_03))\n",
    "dat_miz_L2 = dat_miz_L2.assign(mld_10=(\"time\", mld_10))"
   ]
  },
  {
   "cell_type": "code",
   "execution_count": 17,
   "metadata": {
    "ExecuteTime": {
     "end_time": "2020-09-25T08:33:59.459597Z",
     "start_time": "2020-09-25T08:33:59.443871Z"
    }
   },
   "outputs": [],
   "source": [
    "from datetime import date\n",
    "\n",
    "dat_miz_L2.attrs['instrument']              = 'Hydroid Seaglider'\n",
    "dat_miz_L2.attrs['owner']                   = 'University of Gothenburg'\n",
    "dat_miz_L2.attrs['contact']                 = 'sebastiaan.swart@marine.gu.se'\n",
    "dat_miz_L2.attrs['processing_date']         = str(date.today())\n",
    "dat_miz_L2.attrs['processing_level']        = '2'\n",
    "dat_miz_L2.attrs['time_coverate_start']     = str(dat_miz_L2.time[0].values)\n",
    "dat_miz_L2.attrs['time_coverate_end']       = str(dat_miz_L2.time[-1].values)\n",
    "dat_miz_L2.attrs['geospatial_vertical_min'] = '0'\n",
    "dat_miz_L2.attrs['geospatial_vertical_max'] = '1000'\n",
    "dat_miz_L2.attrs['geospatial_lat_min']      = str(dat_miz_L2.lat.min().values)\n",
    "dat_miz_L2.attrs['geospatial_lat_max']      = str(dat_miz_L2.lat.max().values)\n",
    "dat_miz_L2.attrs['geospatial_lon_min']      = str(dat_miz_L2.lon.min().values)\n",
    "dat_miz_L2.attrs['geospatial_lon_max']      = str(dat_miz_L2.lon.max().values)"
   ]
  },
  {
   "cell_type": "markdown",
   "metadata": {},
   "source": [
    "Making TS plots to identify if there are outliers in the data that were not picked up in the cleaning methods"
   ]
  },
  {
   "cell_type": "code",
   "execution_count": 18,
   "metadata": {
    "ExecuteTime": {
     "end_time": "2020-09-25T08:30:27.250451Z",
     "start_time": "2020-09-25T08:30:15.167574Z"
    }
   },
   "outputs": [],
   "source": [
    "# saz_stacked = dat_saz_L2.stack(z=('time', 'depth'))\n",
    "# apz_stacked = dat_apz_L2.stack(z=('time', 'depth'))\n",
    "# miz_stacked = dat_miz_L2.stack(z=('time', 'depth'))"
   ]
  },
  {
   "cell_type": "code",
   "execution_count": 19,
   "metadata": {
    "ExecuteTime": {
     "end_time": "2020-09-25T08:30:34.463231Z",
     "start_time": "2020-09-25T08:30:27.253036Z"
    }
   },
   "outputs": [],
   "source": [
    "# fig, ax = subplots(1, 3, figsize=[15, 5])\n",
    "\n",
    "# ax[0].scatter(saz_stacked.salt, saz_stacked.temp, 0.1, c=saz_stacked.depth, vmin=0, vmax=1000)\n",
    "# ax[1].scatter(apz_stacked.salt, apz_stacked.temp, 0.1, c=apz_stacked.depth, vmin=0, vmax=1000)\n",
    "# ax[2].scatter(miz_stacked.salt, miz_stacked.temp, 0.1, c=miz_stacked.depth, vmin=0, vmax=1000)\n"
   ]
  },
  {
   "cell_type": "markdown",
   "metadata": {},
   "source": [
    "Save all data as NetCDF"
   ]
  },
  {
   "cell_type": "code",
   "execution_count": 20,
   "metadata": {
    "ExecuteTime": {
     "end_time": "2020-09-25T08:34:09.241257Z",
     "start_time": "2020-09-25T08:34:03.143139Z"
    }
   },
   "outputs": [],
   "source": [
    "dat_saz.to_netcdf   ('/Users/marcel/Google Drive/Projects/buoyancy_flux_paper/data/sg542_saz_L0.nc')\n",
    "dat_saz_L1.to_netcdf('/Users/marcel/Google Drive/Projects/buoyancy_flux_paper/data/sg542_saz_L1.nc')\n",
    "dat_saz_L2.to_netcdf('/Users/marcel/Google Drive/Projects/buoyancy_flux_paper/data/sg542_saz_L2.nc')\n",
    "\n",
    "dat_apz.to_netcdf   ('/Users/marcel/Google Drive/Projects/buoyancy_flux_paper/data/slocum_apz_L0.nc')\n",
    "dat_apz_L1.to_netcdf('/Users/marcel/Google Drive/Projects/buoyancy_flux_paper/data/slocum_apz_L1.nc')\n",
    "dat_apz_L2.to_netcdf('/Users/marcel/Google Drive/Projects/buoyancy_flux_paper/data/slocum_apz_L2.nc')\n",
    "\n",
    "dat_miz.to_netcdf   ('/Users/marcel/Google Drive/Projects/buoyancy_flux_paper/data/sg643_miz_L0.nc')\n",
    "dat_miz_L1.to_netcdf('/Users/marcel/Google Drive/Projects/buoyancy_flux_paper/data/sg643_miz_L1.nc')\n",
    "dat_miz_L2.to_netcdf('/Users/marcel/Google Drive/Projects/buoyancy_flux_paper/data/sg643_miz_L2.nc')"
   ]
  },
  {
   "cell_type": "code",
   "execution_count": 21,
   "metadata": {},
   "outputs": [
    {
     "data": {
      "text/plain": [
       "array([ 216,   45,  233,   27,  231,   16,  230,  105,  250,   15,  258,\n",
       "         14,  371,   17,  254,  324,  213,   50,  256,  658,  198,   21,\n",
       "        193,  238,   55,   17,  100,   23,   97,  125,   98,   26,   97,\n",
       "         27,   42,  309,   81,   35,   62,   26,   55, 1386,  121,   15,\n",
       "        134,   24,  132,   30,  129,   15,  259,   21,  261,   23,  263,\n",
       "        141,  237,   20,  231,   18,  247,   18,  237,   27,  270,   25,\n",
       "        275,   16,  269,   23,  265,   20,  259,   26,  134,   18,  269,\n",
       "         18,  274,   21,  269,   18,  264,   18,  270,   17,  266,   18,\n",
       "        270,   23,  271,   54,  271,   57,  278,   16,  266,   47,  266,\n",
       "         18,  270,   18,  266,   17,  269,   16,  268,   17,  266,   21,\n",
       "        268,   18,  261,   18,  257,   17,  276,   17,  262,   19,  258,\n",
       "         17,  262,   24,  265,   17,  267,   17,  286,   18,  270,   17,\n",
       "        271,   15,  264,   20,  262,   24,  267,   18,  263,   29,  268,\n",
       "         17,  268,   19,  280,   15,  273,   29,  257,   24,  266,   24,\n",
       "        268,   21,  268,   22,  269,   18,  278,   40,  266,   24,  262,\n",
       "         17,  293,  268,   16,  266,   17,  264,   15,  198,   18,  265,\n",
       "         20,  262,   19,  256,   18,  270,   23,  264,   17,  259,   18,\n",
       "        274,   16,  268,   20,  262,   17,  261,   25,  263,   14,  255,\n",
       "         27,  269,   23,  260,   17,  260,   20,  266,   19,  270,   17,\n",
       "        262,   19,  259,   18,  272,   18,  272,   17,  273,   26,  278,\n",
       "         19,  267,   17,  276,   16,  268,   22,  259,   19,  261,   23,\n",
       "        275,   47,  265,   24,  263,   18,  263,   18,  276,   23,  267,\n",
       "         21,  265,   28,  273,   28,  264,   22,  259,   16,  263,   22,\n",
       "        265,   23,  268,   18,  267,   69,  269,   15,  268,   25,  261,\n",
       "         17,  267,   22,  287,   17,  258,   17,  268,   17,  258,   17,\n",
       "        270,   21,  274,   17,  265,   15,  270,   16,  264,   16,  264,\n",
       "         29,  273,   28,  270,   18,  260,   20,  267,   18,  263,   26,\n",
       "        263,   17,  260,   16,  259,   77,  270,   30,  260,   23,  275,\n",
       "         18,  274,   17,  273,   18,  276,   16,  269,   18,  276,   18,\n",
       "        280,   22,  268,   21,  274,   37,  265,   15,  257,   28,  269,\n",
       "         26,  255,   20,  275,   23,  271,   23,  261,   16,  268,   23,\n",
       "        256,   24,  268,   17,  269,   18,  276,   18,  268,   18,  268,\n",
       "         19,  269,   18,  267,   20,  269,   18,  264,   16,  280,   19,\n",
       "        272,   22,  273,   20,  276,   21,  277,   43,  269,   25,  266,\n",
       "         18,  265,   18,  274,   18,  262,   19,  271,   16,  279,   21,\n",
       "        265,   18,  270,   17,  285,   16,  267,   23,  267,   18,  274,\n",
       "         18,  274,   27,  270,   21,  279,   20,  271,   17,  265,   21,\n",
       "        262,   17,  267,   17,  281,   17,  268,   16,  272,   17,  274,\n",
       "         22,  281,   17,  273,   18,  273,   25,  275,   20,  265,   25,\n",
       "        272,   21,  277,   17,  271,   22,  289,   18,  268,   17,  282,\n",
       "         16,  267,   17,  260,   65,  283,   21,  284,   22,  288,   52,\n",
       "        293,   19,  289,   18,  286,   21,  303,   24,  281,   26,  266,\n",
       "         19,  285,   15,  264,   38,  270,   18,  273,   20,  283,   15,\n",
       "        274,   28,  267,   18,  268,   17,  274,   17,  277,   19,  278,\n",
       "         18,  268,   19,  268,   18,  261,   16,  279,   19,  277,   20,\n",
       "        281,   20,  279,   16,  275,   18,  274,   19,  278,   19,  267,\n",
       "         18,  272,   54,  266,   16,  271,   16,  283,   29,  283,   17,\n",
       "        268,   17,  271,   17,  264,   18,  272,   18,  286,   21,  286,\n",
       "         20,  272,   19,  275,   18,  269,   19,  280,   15,  276,   20,\n",
       "        278,   17,  280,   38,  280,   18,  274,   19,  281,   26,  269,\n",
       "         20,  278,   18,  282,   19,  280,   20,  278,   21,  286,   24,\n",
       "        272,   19,  278,   23,  283,   16,  277,   23,  275,   20,  271,\n",
       "         16,  276,   44,  282,   26,  271,   16,  276,   21,  278,   19,\n",
       "        286,   17,  276,   25,  275,   17,  277,   26,  278,   16,  277,\n",
       "         22,  279,   18,  281,   18,  282,   18,  278,   16,  273,   17,\n",
       "        280,   20,  273,   16,  275,   21,  282,   16,  277,   60,  286,\n",
       "         27,  285,   18,  281,   16,  287,   20,  277,   23,  276,   17,\n",
       "        279,   19,  284,   21,  280,   23,  286,   17,  288,   17,  273,\n",
       "         26,  288,   22,  285,   16,  291,   26,  288,   24,  283,   19,\n",
       "        285,   17,  285,   28,  319,  289,   16,  277,   25,  288,   21,\n",
       "        281,   20,  278,   20,  290,   23,  277,   20,  275,   20,  284,\n",
       "         17,  280,   19,  281,   18,  289,   20,  290,   17,  272,   20,\n",
       "        282,   21,  286,   21,  293,   26,  289,   20,  283,   20,  188,\n",
       "         36,  279,   17,  286,   19,  289,   21,  288,   21,  275,   18,\n",
       "        274,   17,  282,   16,  280,   25,  283,   20,  292,   18,  289,\n",
       "         17,  274,   18,  290,   16,  287,   20,  280,   18,  296,   28,\n",
       "        279,   23,  287,   19,  287,   17,  282,   18,  288,   25,  290,\n",
       "         19,  284,   17,  293,   25,  290,   20,  280,   21,  287,   19,\n",
       "        286,   20,  280,   18,  282,   19,  273,   20,  277,   25,  283,\n",
       "         32,  288,   17,  287,   20,  287,   19,  284,   18,  287,   20,\n",
       "        287,   22,  291,   16,  277,   24,  285,   17,  277,   19,  281,\n",
       "         18,  289,   26,  292,   19,  293,   19,  294,   19,  285,   19,\n",
       "        297,   21,  297,   19,  289,   23,  297,   17,  280,   16,  292,\n",
       "         23,  286,   19,  287,   17,  281,   18,  292,   20,  283,   20,\n",
       "        290,   17,  287,   17,  278,   17,  293,   17,  296,   18,  279,\n",
       "         62,  153,   23,  154,   18,   72,   25,   67,   14,   70],\n",
       "      dtype='timedelta64[m]')"
      ]
     },
     "execution_count": 21,
     "metadata": {},
     "output_type": "execute_result"
    }
   ],
   "source": [
    "np.diff(dat_apz_L2.time.values.astype('datetime64[m]'))"
   ]
  }
 ],
 "metadata": {
  "kernelspec": {
   "display_name": "Python 3",
   "language": "python",
   "name": "python3"
  },
  "language_info": {
   "codemirror_mode": {
    "name": "ipython",
    "version": 3
   },
   "file_extension": ".py",
   "mimetype": "text/x-python",
   "name": "python",
   "nbconvert_exporter": "python",
   "pygments_lexer": "ipython3",
   "version": "3.8.5"
  },
  "toc": {
   "base_numbering": 1,
   "nav_menu": {},
   "number_sections": true,
   "sideBar": true,
   "skip_h1_title": false,
   "title_cell": "Table of Contents",
   "title_sidebar": "Contents",
   "toc_cell": false,
   "toc_position": {},
   "toc_section_display": true,
   "toc_window_display": false
  }
 },
 "nbformat": 4,
 "nbformat_minor": 4
}
