{
 "cells": [
  {
   "cell_type": "code",
   "execution_count": 1,
   "metadata": {
    "ExecuteTime": {
     "end_time": "2020-08-25T14:11:23.687966Z",
     "start_time": "2020-08-25T14:11:22.745551Z"
    }
   },
   "outputs": [
    {
     "name": "stdout",
     "output_type": "stream",
     "text": [
      "Populating the interactive namespace from numpy and matplotlib\n"
     ]
    }
   ],
   "source": [
    "%pylab inline\n",
    "import glidertools as gt\n",
    "import process_seaglider_data_L1 as ps"
   ]
  },
  {
   "cell_type": "markdown",
   "metadata": {},
   "source": [
    "Load glider data"
   ]
  },
  {
   "cell_type": "code",
   "execution_count": 2,
   "metadata": {
    "ExecuteTime": {
     "end_time": "2020-08-25T14:11:38.391651Z",
     "start_time": "2020-08-25T14:11:23.690969Z"
    }
   },
   "outputs": [
    {
     "name": "stdout",
     "output_type": "stream",
     "text": [
      "\n",
      "DIMENSION: ctd_data_point\n",
      "{ctd_time, ctd_pressure, longitude, temperature, ctd_depth, salinity_raw, latitude}\n"
     ]
    },
    {
     "name": "stderr",
     "output_type": "stream",
     "text": [
      "100%|██████████| 485/485 [00:06<00:00, 71.07it/s]\n"
     ]
    },
    {
     "name": "stdout",
     "output_type": "stream",
     "text": [
      "/Users/marcel/Google Drive/Projects/buoyancy_flux_paper/data/SG542_SAZ_2019/p5420082.nc was skipped\n",
      "\n",
      "\n",
      "Cannot merge data - not enough time indexed DataFrames\n",
      "Returning unmerged dataframes\n"
     ]
    }
   ],
   "source": [
    "%run read_saz_glider_data.py"
   ]
  },
  {
   "cell_type": "code",
   "execution_count": 3,
   "metadata": {
    "ExecuteTime": {
     "end_time": "2020-08-25T14:11:38.696581Z",
     "start_time": "2020-08-25T14:11:38.395051Z"
    }
   },
   "outputs": [],
   "source": [
    "dat_saz.to_netcdf('/Users/marcel/Google Drive/Projects/buoyancy_flux_paper/data/sg542_saz_L0.nc')"
   ]
  },
  {
   "cell_type": "code",
   "execution_count": 4,
   "metadata": {
    "ExecuteTime": {
     "end_time": "2020-08-25T14:11:59.267104Z",
     "start_time": "2020-08-25T14:11:38.699170Z"
    }
   },
   "outputs": [
    {
     "name": "stdout",
     "output_type": "stream",
     "text": [
      "Mean bin size = 1.00\n",
      "Mean depth binned (50 m) vertical sampling frequency = 0.64\n",
      "Mean bin size = 1.00\n",
      "Mean depth binned (50 m) vertical sampling frequency = 0.64\n",
      "Mean bin size = 1.00\n",
      "Mean depth binned (50 m) vertical sampling frequency = 0.64\n",
      "Mean bin size = 1.00\n",
      "Mean depth binned (50 m) vertical sampling frequency = 0.64\n",
      "Mean bin size = 1.00\n",
      "Mean depth binned (50 m) vertical sampling frequency = 0.64\n"
     ]
    }
   ],
   "source": [
    "dat_saz_L1 = ps.process_seaglider_data_L1(dat_saz)"
   ]
  },
  {
   "cell_type": "code",
   "execution_count": 6,
   "metadata": {
    "ExecuteTime": {
     "end_time": "2020-08-25T14:13:53.795203Z",
     "start_time": "2020-08-25T14:13:53.757817Z"
    }
   },
   "outputs": [],
   "source": [
    "dat_saz_L1.to_netcdf('/Users/marcel/Google Drive/Projects/buoyancy_flux_paper/data/sg542_saz_L1.nc')"
   ]
  },
  {
   "cell_type": "code",
   "execution_count": null,
   "metadata": {},
   "outputs": [],
   "source": []
  }
 ],
 "metadata": {
  "kernelspec": {
   "display_name": "Python 3",
   "language": "python",
   "name": "python3"
  },
  "language_info": {
   "codemirror_mode": {
    "name": "ipython",
    "version": 3
   },
   "file_extension": ".py",
   "mimetype": "text/x-python",
   "name": "python",
   "nbconvert_exporter": "python",
   "pygments_lexer": "ipython3",
   "version": "3.7.3"
  },
  "toc": {
   "base_numbering": 1,
   "nav_menu": {},
   "number_sections": true,
   "sideBar": true,
   "skip_h1_title": false,
   "title_cell": "Table of Contents",
   "title_sidebar": "Contents",
   "toc_cell": false,
   "toc_position": {},
   "toc_section_display": true,
   "toc_window_display": false
  }
 },
 "nbformat": 4,
 "nbformat_minor": 4
}
